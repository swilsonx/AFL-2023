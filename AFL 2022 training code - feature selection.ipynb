{
 "cells": [
  {
   "cell_type": "code",
   "execution_count": 1,
   "id": "829e189e",
   "metadata": {},
   "outputs": [],
   "source": [
    "#Importing basic packages\n",
    "import pandas as pd\n",
    "import numpy as np\n",
    "import matplotlib.pyplot as plt\n",
    "import seaborn as sns\n",
    "import sklearn\n",
    "import shap\n",
    "from sklearn.metrics import accuracy_score\n",
    "\n",
    "from sklearn.discriminant_analysis import LinearDiscriminantAnalysis\n",
    "from sklearn.linear_model import LogisticRegression\n",
    "from sklearn.ensemble import RandomForestClassifier\n",
    "from sklearn.svm import SVR\n",
    "\n",
    "from sklearn.model_selection import RepeatedKFold\n",
    "from sklearn.model_selection import cross_val_score\n",
    "from sklearn.model_selection import RepeatedStratifiedKFold\n",
    "from sklearn.model_selection import GridSearchCV\n",
    "\n",
    "from numpy import mean\n",
    "from numpy import std\n",
    "from numpy import set_printoptions\n",
    "\n",
    "from sklearn.feature_selection import RFE\n",
    "from sklearn.feature_selection import RFECV"
   ]
  },
  {
   "cell_type": "code",
   "execution_count": 2,
   "id": "1f44256a",
   "metadata": {},
   "outputs": [],
   "source": [
    "#Importing the Dataset\n",
    "#Data from old 2019 model training, includes data from 2014 to 2019\n",
    "afl = pd.read_csv('C:\\\\Users\\\\D648007\\\\AFLdata2.csv')\n",
    "dataset = afl"
   ]
  },
  {
   "cell_type": "code",
   "execution_count": 3,
   "id": "f00718f6",
   "metadata": {
    "scrolled": false
   },
   "outputs": [
    {
     "name": "stdout",
     "output_type": "stream",
     "text": [
      "(1862, 96)\n"
     ]
    }
   ],
   "source": [
    "#Look at dataset's dimensions: rows and columns\n",
    "print(dataset.shape)"
   ]
  },
  {
   "cell_type": "code",
   "execution_count": 4,
   "id": "77d54519",
   "metadata": {},
   "outputs": [
    {
     "data": {
      "text/html": [
       "<div>\n",
       "<style scoped>\n",
       "    .dataframe tbody tr th:only-of-type {\n",
       "        vertical-align: middle;\n",
       "    }\n",
       "\n",
       "    .dataframe tbody tr th {\n",
       "        vertical-align: top;\n",
       "    }\n",
       "\n",
       "    .dataframe thead th {\n",
       "        text-align: right;\n",
       "    }\n",
       "</style>\n",
       "<table border=\"1\" class=\"dataframe\">\n",
       "  <thead>\n",
       "    <tr style=\"text-align: right;\">\n",
       "      <th></th>\n",
       "      <th>round</th>\n",
       "      <th>home_team</th>\n",
       "      <th>away_team</th>\n",
       "      <th>hm_score</th>\n",
       "      <th>aw_score</th>\n",
       "      <th>score_gap</th>\n",
       "      <th>hm_PWk_lad</th>\n",
       "      <th>aw_PWk_lad</th>\n",
       "      <th>PWk_lad_gap</th>\n",
       "      <th>hm_PWk_perc</th>\n",
       "      <th>...</th>\n",
       "      <th>h_win_2_gap</th>\n",
       "      <th>h_win_3_gap</th>\n",
       "      <th>h_win_4_gap</th>\n",
       "      <th>a_win_1_gap</th>\n",
       "      <th>a_win_2_gap</th>\n",
       "      <th>a_win_3_gap</th>\n",
       "      <th>a_win_4_gap</th>\n",
       "      <th>Interstate</th>\n",
       "      <th>PWk_hm</th>\n",
       "      <th>home_win</th>\n",
       "    </tr>\n",
       "  </thead>\n",
       "  <tbody>\n",
       "    <tr>\n",
       "      <th>0</th>\n",
       "      <td>1</td>\n",
       "      <td>CA</td>\n",
       "      <td>RI</td>\n",
       "      <td>64</td>\n",
       "      <td>97</td>\n",
       "      <td>-33</td>\n",
       "      <td>18.0</td>\n",
       "      <td>1.0</td>\n",
       "      <td>-17.0</td>\n",
       "      <td>59.3</td>\n",
       "      <td>...</td>\n",
       "      <td>0.0</td>\n",
       "      <td>0.0</td>\n",
       "      <td>0.0</td>\n",
       "      <td>1.0</td>\n",
       "      <td>1.0</td>\n",
       "      <td>1.0</td>\n",
       "      <td>1.0</td>\n",
       "      <td>0.0</td>\n",
       "      <td>0</td>\n",
       "      <td>0</td>\n",
       "    </tr>\n",
       "    <tr>\n",
       "      <th>1</th>\n",
       "      <td>1</td>\n",
       "      <td>CW</td>\n",
       "      <td>GE</td>\n",
       "      <td>65</td>\n",
       "      <td>72</td>\n",
       "      <td>-7</td>\n",
       "      <td>3.0</td>\n",
       "      <td>8.0</td>\n",
       "      <td>5.0</td>\n",
       "      <td>120.4</td>\n",
       "      <td>...</td>\n",
       "      <td>0.0</td>\n",
       "      <td>1.0</td>\n",
       "      <td>0.0</td>\n",
       "      <td>0.0</td>\n",
       "      <td>0.0</td>\n",
       "      <td>0.0</td>\n",
       "      <td>0.0</td>\n",
       "      <td>1.0</td>\n",
       "      <td>1</td>\n",
       "      <td>0</td>\n",
       "    </tr>\n",
       "    <tr>\n",
       "      <th>2</th>\n",
       "      <td>1</td>\n",
       "      <td>ME</td>\n",
       "      <td>PA</td>\n",
       "      <td>61</td>\n",
       "      <td>87</td>\n",
       "      <td>-26</td>\n",
       "      <td>5.0</td>\n",
       "      <td>10.0</td>\n",
       "      <td>5.0</td>\n",
       "      <td>131.4</td>\n",
       "      <td>...</td>\n",
       "      <td>1.0</td>\n",
       "      <td>0.0</td>\n",
       "      <td>0.0</td>\n",
       "      <td>0.0</td>\n",
       "      <td>0.0</td>\n",
       "      <td>0.0</td>\n",
       "      <td>0.0</td>\n",
       "      <td>1.0</td>\n",
       "      <td>0</td>\n",
       "      <td>0</td>\n",
       "    </tr>\n",
       "    <tr>\n",
       "      <th>3</th>\n",
       "      <td>1</td>\n",
       "      <td>AD</td>\n",
       "      <td>HW</td>\n",
       "      <td>55</td>\n",
       "      <td>87</td>\n",
       "      <td>-32</td>\n",
       "      <td>12.0</td>\n",
       "      <td>4.0</td>\n",
       "      <td>-8.0</td>\n",
       "      <td>104.1</td>\n",
       "      <td>...</td>\n",
       "      <td>0.0</td>\n",
       "      <td>0.0</td>\n",
       "      <td>0.0</td>\n",
       "      <td>0.0</td>\n",
       "      <td>0.0</td>\n",
       "      <td>1.0</td>\n",
       "      <td>1.0</td>\n",
       "      <td>1.0</td>\n",
       "      <td>1</td>\n",
       "      <td>0</td>\n",
       "    </tr>\n",
       "    <tr>\n",
       "      <th>4</th>\n",
       "      <td>1</td>\n",
       "      <td>WB</td>\n",
       "      <td>SY</td>\n",
       "      <td>82</td>\n",
       "      <td>65</td>\n",
       "      <td>17</td>\n",
       "      <td>13.0</td>\n",
       "      <td>6.0</td>\n",
       "      <td>-7.0</td>\n",
       "      <td>77.3</td>\n",
       "      <td>...</td>\n",
       "      <td>0.0</td>\n",
       "      <td>0.0</td>\n",
       "      <td>0.0</td>\n",
       "      <td>0.0</td>\n",
       "      <td>0.0</td>\n",
       "      <td>0.0</td>\n",
       "      <td>0.0</td>\n",
       "      <td>1.0</td>\n",
       "      <td>1</td>\n",
       "      <td>1</td>\n",
       "    </tr>\n",
       "    <tr>\n",
       "      <th>5</th>\n",
       "      <td>1</td>\n",
       "      <td>BL</td>\n",
       "      <td>WC</td>\n",
       "      <td>102</td>\n",
       "      <td>58</td>\n",
       "      <td>44</td>\n",
       "      <td>15.0</td>\n",
       "      <td>2.0</td>\n",
       "      <td>-13.0</td>\n",
       "      <td>89.1</td>\n",
       "      <td>...</td>\n",
       "      <td>0.0</td>\n",
       "      <td>0.0</td>\n",
       "      <td>0.0</td>\n",
       "      <td>1.0</td>\n",
       "      <td>0.0</td>\n",
       "      <td>0.0</td>\n",
       "      <td>0.0</td>\n",
       "      <td>1.0</td>\n",
       "      <td>0</td>\n",
       "      <td>1</td>\n",
       "    </tr>\n",
       "    <tr>\n",
       "      <th>6</th>\n",
       "      <td>1</td>\n",
       "      <td>SK</td>\n",
       "      <td>GC</td>\n",
       "      <td>85</td>\n",
       "      <td>84</td>\n",
       "      <td>1</td>\n",
       "      <td>16.0</td>\n",
       "      <td>17.0</td>\n",
       "      <td>1.0</td>\n",
       "      <td>75.6</td>\n",
       "      <td>...</td>\n",
       "      <td>0.0</td>\n",
       "      <td>0.0</td>\n",
       "      <td>0.0</td>\n",
       "      <td>0.0</td>\n",
       "      <td>0.0</td>\n",
       "      <td>0.0</td>\n",
       "      <td>0.0</td>\n",
       "      <td>1.0</td>\n",
       "      <td>0</td>\n",
       "      <td>1</td>\n",
       "    </tr>\n",
       "    <tr>\n",
       "      <th>7</th>\n",
       "      <td>1</td>\n",
       "      <td>GW</td>\n",
       "      <td>ES</td>\n",
       "      <td>112</td>\n",
       "      <td>40</td>\n",
       "      <td>72</td>\n",
       "      <td>7.0</td>\n",
       "      <td>11.0</td>\n",
       "      <td>4.0</td>\n",
       "      <td>114.3</td>\n",
       "      <td>...</td>\n",
       "      <td>0.0</td>\n",
       "      <td>0.0</td>\n",
       "      <td>0.0</td>\n",
       "      <td>1.0</td>\n",
       "      <td>0.0</td>\n",
       "      <td>0.0</td>\n",
       "      <td>0.0</td>\n",
       "      <td>1.0</td>\n",
       "      <td>0</td>\n",
       "      <td>1</td>\n",
       "    </tr>\n",
       "    <tr>\n",
       "      <th>8</th>\n",
       "      <td>1</td>\n",
       "      <td>FR</td>\n",
       "      <td>NM</td>\n",
       "      <td>141</td>\n",
       "      <td>59</td>\n",
       "      <td>82</td>\n",
       "      <td>14.0</td>\n",
       "      <td>9.0</td>\n",
       "      <td>-5.0</td>\n",
       "      <td>76.2</td>\n",
       "      <td>...</td>\n",
       "      <td>0.0</td>\n",
       "      <td>0.0</td>\n",
       "      <td>0.0</td>\n",
       "      <td>1.0</td>\n",
       "      <td>0.0</td>\n",
       "      <td>0.0</td>\n",
       "      <td>0.0</td>\n",
       "      <td>1.0</td>\n",
       "      <td>0</td>\n",
       "      <td>1</td>\n",
       "    </tr>\n",
       "    <tr>\n",
       "      <th>9</th>\n",
       "      <td>2</td>\n",
       "      <td>RI</td>\n",
       "      <td>CW</td>\n",
       "      <td>66</td>\n",
       "      <td>110</td>\n",
       "      <td>-44</td>\n",
       "      <td>5.0</td>\n",
       "      <td>11.0</td>\n",
       "      <td>6.0</td>\n",
       "      <td>151.6</td>\n",
       "      <td>...</td>\n",
       "      <td>1.0</td>\n",
       "      <td>1.0</td>\n",
       "      <td>1.0</td>\n",
       "      <td>0.0</td>\n",
       "      <td>0.0</td>\n",
       "      <td>0.0</td>\n",
       "      <td>0.0</td>\n",
       "      <td>0.0</td>\n",
       "      <td>0</td>\n",
       "      <td>0</td>\n",
       "    </tr>\n",
       "    <tr>\n",
       "      <th>10</th>\n",
       "      <td>2</td>\n",
       "      <td>SY</td>\n",
       "      <td>AD</td>\n",
       "      <td>62</td>\n",
       "      <td>88</td>\n",
       "      <td>-26</td>\n",
       "      <td>12.0</td>\n",
       "      <td>15.0</td>\n",
       "      <td>3.0</td>\n",
       "      <td>79.3</td>\n",
       "      <td>...</td>\n",
       "      <td>0.0</td>\n",
       "      <td>0.0</td>\n",
       "      <td>0.0</td>\n",
       "      <td>0.0</td>\n",
       "      <td>0.0</td>\n",
       "      <td>0.0</td>\n",
       "      <td>0.0</td>\n",
       "      <td>1.0</td>\n",
       "      <td>0</td>\n",
       "      <td>0</td>\n",
       "    </tr>\n",
       "    <tr>\n",
       "      <th>11</th>\n",
       "      <td>2</td>\n",
       "      <td>ES</td>\n",
       "      <td>SK</td>\n",
       "      <td>65</td>\n",
       "      <td>76</td>\n",
       "      <td>-11</td>\n",
       "      <td>18.0</td>\n",
       "      <td>9.0</td>\n",
       "      <td>-9.0</td>\n",
       "      <td>35.7</td>\n",
       "      <td>...</td>\n",
       "      <td>0.0</td>\n",
       "      <td>0.0</td>\n",
       "      <td>0.0</td>\n",
       "      <td>1.0</td>\n",
       "      <td>0.0</td>\n",
       "      <td>0.0</td>\n",
       "      <td>0.0</td>\n",
       "      <td>0.0</td>\n",
       "      <td>0</td>\n",
       "      <td>0</td>\n",
       "    </tr>\n",
       "    <tr>\n",
       "      <th>12</th>\n",
       "      <td>2</td>\n",
       "      <td>PA</td>\n",
       "      <td>CA</td>\n",
       "      <td>88</td>\n",
       "      <td>72</td>\n",
       "      <td>16</td>\n",
       "      <td>6.0</td>\n",
       "      <td>14.0</td>\n",
       "      <td>8.0</td>\n",
       "      <td>142.6</td>\n",
       "      <td>...</td>\n",
       "      <td>0.0</td>\n",
       "      <td>0.0</td>\n",
       "      <td>0.0</td>\n",
       "      <td>0.0</td>\n",
       "      <td>0.0</td>\n",
       "      <td>0.0</td>\n",
       "      <td>0.0</td>\n",
       "      <td>1.0</td>\n",
       "      <td>0</td>\n",
       "      <td>1</td>\n",
       "    </tr>\n",
       "    <tr>\n",
       "      <th>13</th>\n",
       "      <td>2</td>\n",
       "      <td>GE</td>\n",
       "      <td>ME</td>\n",
       "      <td>126</td>\n",
       "      <td>46</td>\n",
       "      <td>80</td>\n",
       "      <td>8.0</td>\n",
       "      <td>13.0</td>\n",
       "      <td>5.0</td>\n",
       "      <td>110.8</td>\n",
       "      <td>...</td>\n",
       "      <td>1.0</td>\n",
       "      <td>1.0</td>\n",
       "      <td>0.0</td>\n",
       "      <td>0.0</td>\n",
       "      <td>0.0</td>\n",
       "      <td>0.0</td>\n",
       "      <td>0.0</td>\n",
       "      <td>1.0</td>\n",
       "      <td>0</td>\n",
       "      <td>1</td>\n",
       "    </tr>\n",
       "    <tr>\n",
       "      <th>14</th>\n",
       "      <td>2</td>\n",
       "      <td>WC</td>\n",
       "      <td>GW</td>\n",
       "      <td>104</td>\n",
       "      <td>52</td>\n",
       "      <td>52</td>\n",
       "      <td>16.0</td>\n",
       "      <td>1.0</td>\n",
       "      <td>-15.0</td>\n",
       "      <td>56.9</td>\n",
       "      <td>...</td>\n",
       "      <td>0.0</td>\n",
       "      <td>0.0</td>\n",
       "      <td>0.0</td>\n",
       "      <td>1.0</td>\n",
       "      <td>0.0</td>\n",
       "      <td>0.0</td>\n",
       "      <td>0.0</td>\n",
       "      <td>1.0</td>\n",
       "      <td>0</td>\n",
       "      <td>1</td>\n",
       "    </tr>\n",
       "  </tbody>\n",
       "</table>\n",
       "<p>15 rows × 96 columns</p>\n",
       "</div>"
      ],
      "text/plain": [
       "    round home_team away_team  hm_score  aw_score  score_gap  hm_PWk_lad  \\\n",
       "0       1        CA        RI        64        97        -33        18.0   \n",
       "1       1        CW        GE        65        72         -7         3.0   \n",
       "2       1        ME        PA        61        87        -26         5.0   \n",
       "3       1        AD        HW        55        87        -32        12.0   \n",
       "4       1        WB        SY        82        65         17        13.0   \n",
       "5       1        BL        WC       102        58         44        15.0   \n",
       "6       1        SK        GC        85        84          1        16.0   \n",
       "7       1        GW        ES       112        40         72         7.0   \n",
       "8       1        FR        NM       141        59         82        14.0   \n",
       "9       2        RI        CW        66       110        -44         5.0   \n",
       "10      2        SY        AD        62        88        -26        12.0   \n",
       "11      2        ES        SK        65        76        -11        18.0   \n",
       "12      2        PA        CA        88        72         16         6.0   \n",
       "13      2        GE        ME       126        46         80         8.0   \n",
       "14      2        WC        GW       104        52         52        16.0   \n",
       "\n",
       "    aw_PWk_lad  PWk_lad_gap  hm_PWk_perc  ...  h_win_2_gap  h_win_3_gap  \\\n",
       "0          1.0        -17.0         59.3  ...          0.0          0.0   \n",
       "1          8.0          5.0        120.4  ...          0.0          1.0   \n",
       "2         10.0          5.0        131.4  ...          1.0          0.0   \n",
       "3          4.0         -8.0        104.1  ...          0.0          0.0   \n",
       "4          6.0         -7.0         77.3  ...          0.0          0.0   \n",
       "5          2.0        -13.0         89.1  ...          0.0          0.0   \n",
       "6         17.0          1.0         75.6  ...          0.0          0.0   \n",
       "7         11.0          4.0        114.3  ...          0.0          0.0   \n",
       "8          9.0         -5.0         76.2  ...          0.0          0.0   \n",
       "9         11.0          6.0        151.6  ...          1.0          1.0   \n",
       "10        15.0          3.0         79.3  ...          0.0          0.0   \n",
       "11         9.0         -9.0         35.7  ...          0.0          0.0   \n",
       "12        14.0          8.0        142.6  ...          0.0          0.0   \n",
       "13        13.0          5.0        110.8  ...          1.0          1.0   \n",
       "14         1.0        -15.0         56.9  ...          0.0          0.0   \n",
       "\n",
       "    h_win_4_gap  a_win_1_gap  a_win_2_gap  a_win_3_gap  a_win_4_gap  \\\n",
       "0           0.0          1.0          1.0          1.0          1.0   \n",
       "1           0.0          0.0          0.0          0.0          0.0   \n",
       "2           0.0          0.0          0.0          0.0          0.0   \n",
       "3           0.0          0.0          0.0          1.0          1.0   \n",
       "4           0.0          0.0          0.0          0.0          0.0   \n",
       "5           0.0          1.0          0.0          0.0          0.0   \n",
       "6           0.0          0.0          0.0          0.0          0.0   \n",
       "7           0.0          1.0          0.0          0.0          0.0   \n",
       "8           0.0          1.0          0.0          0.0          0.0   \n",
       "9           1.0          0.0          0.0          0.0          0.0   \n",
       "10          0.0          0.0          0.0          0.0          0.0   \n",
       "11          0.0          1.0          0.0          0.0          0.0   \n",
       "12          0.0          0.0          0.0          0.0          0.0   \n",
       "13          0.0          0.0          0.0          0.0          0.0   \n",
       "14          0.0          1.0          0.0          0.0          0.0   \n",
       "\n",
       "    Interstate  PWk_hm  home_win  \n",
       "0          0.0       0         0  \n",
       "1          1.0       1         0  \n",
       "2          1.0       0         0  \n",
       "3          1.0       1         0  \n",
       "4          1.0       1         1  \n",
       "5          1.0       0         1  \n",
       "6          1.0       0         1  \n",
       "7          1.0       0         1  \n",
       "8          1.0       0         1  \n",
       "9          0.0       0         0  \n",
       "10         1.0       0         0  \n",
       "11         0.0       0         0  \n",
       "12         1.0       0         1  \n",
       "13         1.0       0         1  \n",
       "14         1.0       0         1  \n",
       "\n",
       "[15 rows x 96 columns]"
      ]
     },
     "execution_count": 4,
     "metadata": {},
     "output_type": "execute_result"
    }
   ],
   "source": [
    "#View first 15 rows to see what the data is like\n",
    "\n",
    "#Outcome - home game win = 1\n",
    "dataset.head(15)\n"
   ]
  },
  {
   "cell_type": "code",
   "execution_count": 5,
   "id": "82b4a47b",
   "metadata": {},
   "outputs": [
    {
     "data": {
      "text/plain": [
       "round            int64\n",
       "home_team       object\n",
       "away_team       object\n",
       "hm_score         int64\n",
       "aw_score         int64\n",
       "                ...   \n",
       "a_win_3_gap    float64\n",
       "a_win_4_gap    float64\n",
       "Interstate     float64\n",
       "PWk_hm           int64\n",
       "home_win         int64\n",
       "Length: 96, dtype: object"
      ]
     },
     "execution_count": 5,
     "metadata": {},
     "output_type": "execute_result"
    }
   ],
   "source": [
    "dataset.dtypes"
   ]
  },
  {
   "cell_type": "code",
   "execution_count": 6,
   "id": "838b0b67",
   "metadata": {},
   "outputs": [
    {
     "data": {
      "text/html": [
       "<div>\n",
       "<style scoped>\n",
       "    .dataframe tbody tr th:only-of-type {\n",
       "        vertical-align: middle;\n",
       "    }\n",
       "\n",
       "    .dataframe tbody tr th {\n",
       "        vertical-align: top;\n",
       "    }\n",
       "\n",
       "    .dataframe thead th {\n",
       "        text-align: right;\n",
       "    }\n",
       "</style>\n",
       "<table border=\"1\" class=\"dataframe\">\n",
       "  <thead>\n",
       "    <tr style=\"text-align: right;\">\n",
       "      <th></th>\n",
       "      <th>round</th>\n",
       "      <th>hm_score</th>\n",
       "      <th>aw_score</th>\n",
       "      <th>score_gap</th>\n",
       "      <th>hm_PWk_lad</th>\n",
       "      <th>aw_PWk_lad</th>\n",
       "      <th>PWk_lad_gap</th>\n",
       "      <th>hm_PWk_perc</th>\n",
       "      <th>aw_PWk_perc</th>\n",
       "      <th>PWk_perc_gap</th>\n",
       "      <th>...</th>\n",
       "      <th>h_win_2_gap</th>\n",
       "      <th>h_win_3_gap</th>\n",
       "      <th>h_win_4_gap</th>\n",
       "      <th>a_win_1_gap</th>\n",
       "      <th>a_win_2_gap</th>\n",
       "      <th>a_win_3_gap</th>\n",
       "      <th>a_win_4_gap</th>\n",
       "      <th>Interstate</th>\n",
       "      <th>PWk_hm</th>\n",
       "      <th>home_win</th>\n",
       "    </tr>\n",
       "  </thead>\n",
       "  <tbody>\n",
       "    <tr>\n",
       "      <th>count</th>\n",
       "      <td>1862.000000</td>\n",
       "      <td>1862.000000</td>\n",
       "      <td>1862.000000</td>\n",
       "      <td>1862.000000</td>\n",
       "      <td>1861.000000</td>\n",
       "      <td>1841.000000</td>\n",
       "      <td>1841.000000</td>\n",
       "      <td>1861.000000</td>\n",
       "      <td>1841.000000</td>\n",
       "      <td>1841.000000</td>\n",
       "      <td>...</td>\n",
       "      <td>1840.000000</td>\n",
       "      <td>1840.000000</td>\n",
       "      <td>1840.000000</td>\n",
       "      <td>1840.000000</td>\n",
       "      <td>1840.000000</td>\n",
       "      <td>1840.000000</td>\n",
       "      <td>1840.000000</td>\n",
       "      <td>1840.000000</td>\n",
       "      <td>1862.000000</td>\n",
       "      <td>1862.000000</td>\n",
       "    </tr>\n",
       "    <tr>\n",
       "      <th>mean</th>\n",
       "      <td>11.994092</td>\n",
       "      <td>86.382922</td>\n",
       "      <td>80.276047</td>\n",
       "      <td>6.106874</td>\n",
       "      <td>9.522300</td>\n",
       "      <td>9.273221</td>\n",
       "      <td>-0.255296</td>\n",
       "      <td>102.644868</td>\n",
       "      <td>104.182835</td>\n",
       "      <td>-1.574796</td>\n",
       "      <td>...</td>\n",
       "      <td>0.169022</td>\n",
       "      <td>0.112500</td>\n",
       "      <td>0.075000</td>\n",
       "      <td>0.276630</td>\n",
       "      <td>0.199457</td>\n",
       "      <td>0.134783</td>\n",
       "      <td>0.079348</td>\n",
       "      <td>0.714674</td>\n",
       "      <td>0.281418</td>\n",
       "      <td>0.529538</td>\n",
       "    </tr>\n",
       "    <tr>\n",
       "      <th>std</th>\n",
       "      <td>6.631910</td>\n",
       "      <td>34.039093</td>\n",
       "      <td>32.780695</td>\n",
       "      <td>44.298216</td>\n",
       "      <td>5.168366</td>\n",
       "      <td>5.212525</td>\n",
       "      <td>7.209143</td>\n",
       "      <td>29.573266</td>\n",
       "      <td>30.487561</td>\n",
       "      <td>40.552021</td>\n",
       "      <td>...</td>\n",
       "      <td>0.374873</td>\n",
       "      <td>0.316067</td>\n",
       "      <td>0.263463</td>\n",
       "      <td>0.447454</td>\n",
       "      <td>0.399700</td>\n",
       "      <td>0.341584</td>\n",
       "      <td>0.270354</td>\n",
       "      <td>0.451692</td>\n",
       "      <td>0.449812</td>\n",
       "      <td>0.499261</td>\n",
       "    </tr>\n",
       "    <tr>\n",
       "      <th>min</th>\n",
       "      <td>1.000000</td>\n",
       "      <td>0.000000</td>\n",
       "      <td>0.000000</td>\n",
       "      <td>-138.000000</td>\n",
       "      <td>0.000000</td>\n",
       "      <td>0.000000</td>\n",
       "      <td>-17.000000</td>\n",
       "      <td>0.000000</td>\n",
       "      <td>0.000000</td>\n",
       "      <td>-223.100000</td>\n",
       "      <td>...</td>\n",
       "      <td>0.000000</td>\n",
       "      <td>0.000000</td>\n",
       "      <td>0.000000</td>\n",
       "      <td>0.000000</td>\n",
       "      <td>0.000000</td>\n",
       "      <td>0.000000</td>\n",
       "      <td>0.000000</td>\n",
       "      <td>0.000000</td>\n",
       "      <td>0.000000</td>\n",
       "      <td>0.000000</td>\n",
       "    </tr>\n",
       "    <tr>\n",
       "      <th>25%</th>\n",
       "      <td>6.000000</td>\n",
       "      <td>68.000000</td>\n",
       "      <td>62.000000</td>\n",
       "      <td>-22.000000</td>\n",
       "      <td>5.000000</td>\n",
       "      <td>5.000000</td>\n",
       "      <td>-5.000000</td>\n",
       "      <td>82.000000</td>\n",
       "      <td>83.200000</td>\n",
       "      <td>-27.100000</td>\n",
       "      <td>...</td>\n",
       "      <td>0.000000</td>\n",
       "      <td>0.000000</td>\n",
       "      <td>0.000000</td>\n",
       "      <td>0.000000</td>\n",
       "      <td>0.000000</td>\n",
       "      <td>0.000000</td>\n",
       "      <td>0.000000</td>\n",
       "      <td>0.000000</td>\n",
       "      <td>0.000000</td>\n",
       "      <td>0.000000</td>\n",
       "    </tr>\n",
       "    <tr>\n",
       "      <th>50%</th>\n",
       "      <td>12.000000</td>\n",
       "      <td>87.000000</td>\n",
       "      <td>81.000000</td>\n",
       "      <td>3.000000</td>\n",
       "      <td>10.000000</td>\n",
       "      <td>9.000000</td>\n",
       "      <td>-1.000000</td>\n",
       "      <td>102.900000</td>\n",
       "      <td>104.200000</td>\n",
       "      <td>-1.800000</td>\n",
       "      <td>...</td>\n",
       "      <td>0.000000</td>\n",
       "      <td>0.000000</td>\n",
       "      <td>0.000000</td>\n",
       "      <td>0.000000</td>\n",
       "      <td>0.000000</td>\n",
       "      <td>0.000000</td>\n",
       "      <td>0.000000</td>\n",
       "      <td>1.000000</td>\n",
       "      <td>0.000000</td>\n",
       "      <td>1.000000</td>\n",
       "    </tr>\n",
       "    <tr>\n",
       "      <th>75%</th>\n",
       "      <td>18.000000</td>\n",
       "      <td>107.750000</td>\n",
       "      <td>100.000000</td>\n",
       "      <td>34.000000</td>\n",
       "      <td>14.000000</td>\n",
       "      <td>14.000000</td>\n",
       "      <td>5.000000</td>\n",
       "      <td>120.400000</td>\n",
       "      <td>121.900000</td>\n",
       "      <td>25.300000</td>\n",
       "      <td>...</td>\n",
       "      <td>0.000000</td>\n",
       "      <td>0.000000</td>\n",
       "      <td>0.000000</td>\n",
       "      <td>1.000000</td>\n",
       "      <td>0.000000</td>\n",
       "      <td>0.000000</td>\n",
       "      <td>0.000000</td>\n",
       "      <td>1.000000</td>\n",
       "      <td>1.000000</td>\n",
       "      <td>1.000000</td>\n",
       "    </tr>\n",
       "    <tr>\n",
       "      <th>max</th>\n",
       "      <td>23.000000</td>\n",
       "      <td>233.000000</td>\n",
       "      <td>187.000000</td>\n",
       "      <td>186.000000</td>\n",
       "      <td>18.000000</td>\n",
       "      <td>18.000000</td>\n",
       "      <td>17.000000</td>\n",
       "      <td>270.300000</td>\n",
       "      <td>280.000000</td>\n",
       "      <td>174.600000</td>\n",
       "      <td>...</td>\n",
       "      <td>1.000000</td>\n",
       "      <td>1.000000</td>\n",
       "      <td>1.000000</td>\n",
       "      <td>1.000000</td>\n",
       "      <td>1.000000</td>\n",
       "      <td>1.000000</td>\n",
       "      <td>1.000000</td>\n",
       "      <td>1.000000</td>\n",
       "      <td>1.000000</td>\n",
       "      <td>1.000000</td>\n",
       "    </tr>\n",
       "  </tbody>\n",
       "</table>\n",
       "<p>8 rows × 94 columns</p>\n",
       "</div>"
      ],
      "text/plain": [
       "             round     hm_score     aw_score    score_gap   hm_PWk_lad  \\\n",
       "count  1862.000000  1862.000000  1862.000000  1862.000000  1861.000000   \n",
       "mean     11.994092    86.382922    80.276047     6.106874     9.522300   \n",
       "std       6.631910    34.039093    32.780695    44.298216     5.168366   \n",
       "min       1.000000     0.000000     0.000000  -138.000000     0.000000   \n",
       "25%       6.000000    68.000000    62.000000   -22.000000     5.000000   \n",
       "50%      12.000000    87.000000    81.000000     3.000000    10.000000   \n",
       "75%      18.000000   107.750000   100.000000    34.000000    14.000000   \n",
       "max      23.000000   233.000000   187.000000   186.000000    18.000000   \n",
       "\n",
       "        aw_PWk_lad  PWk_lad_gap  hm_PWk_perc  aw_PWk_perc  PWk_perc_gap  ...  \\\n",
       "count  1841.000000  1841.000000  1861.000000  1841.000000   1841.000000  ...   \n",
       "mean      9.273221    -0.255296   102.644868   104.182835     -1.574796  ...   \n",
       "std       5.212525     7.209143    29.573266    30.487561     40.552021  ...   \n",
       "min       0.000000   -17.000000     0.000000     0.000000   -223.100000  ...   \n",
       "25%       5.000000    -5.000000    82.000000    83.200000    -27.100000  ...   \n",
       "50%       9.000000    -1.000000   102.900000   104.200000     -1.800000  ...   \n",
       "75%      14.000000     5.000000   120.400000   121.900000     25.300000  ...   \n",
       "max      18.000000    17.000000   270.300000   280.000000    174.600000  ...   \n",
       "\n",
       "       h_win_2_gap  h_win_3_gap  h_win_4_gap  a_win_1_gap  a_win_2_gap  \\\n",
       "count  1840.000000  1840.000000  1840.000000  1840.000000  1840.000000   \n",
       "mean      0.169022     0.112500     0.075000     0.276630     0.199457   \n",
       "std       0.374873     0.316067     0.263463     0.447454     0.399700   \n",
       "min       0.000000     0.000000     0.000000     0.000000     0.000000   \n",
       "25%       0.000000     0.000000     0.000000     0.000000     0.000000   \n",
       "50%       0.000000     0.000000     0.000000     0.000000     0.000000   \n",
       "75%       0.000000     0.000000     0.000000     1.000000     0.000000   \n",
       "max       1.000000     1.000000     1.000000     1.000000     1.000000   \n",
       "\n",
       "       a_win_3_gap  a_win_4_gap   Interstate       PWk_hm     home_win  \n",
       "count  1840.000000  1840.000000  1840.000000  1862.000000  1862.000000  \n",
       "mean      0.134783     0.079348     0.714674     0.281418     0.529538  \n",
       "std       0.341584     0.270354     0.451692     0.449812     0.499261  \n",
       "min       0.000000     0.000000     0.000000     0.000000     0.000000  \n",
       "25%       0.000000     0.000000     0.000000     0.000000     0.000000  \n",
       "50%       0.000000     0.000000     1.000000     0.000000     1.000000  \n",
       "75%       0.000000     0.000000     1.000000     1.000000     1.000000  \n",
       "max       1.000000     1.000000     1.000000     1.000000     1.000000  \n",
       "\n",
       "[8 rows x 94 columns]"
      ]
     },
     "execution_count": 6,
     "metadata": {},
     "output_type": "execute_result"
    }
   ],
   "source": [
    "#Get basic descriptive stats of the dataset to understand mean, median, standard dev, range\n",
    "dataset.describe()"
   ]
  },
  {
   "cell_type": "code",
   "execution_count": 7,
   "id": "ae1a8e73",
   "metadata": {},
   "outputs": [
    {
     "name": "stdout",
     "output_type": "stream",
     "text": [
      "home_win\n",
      "0    876\n",
      "1    986\n",
      "dtype: int64\n"
     ]
    }
   ],
   "source": [
    "#To understand class distribution - i.e. how many in the sample get a home win vs dont\n",
    "#This is a 'classification' prediction exercise, we want to classify teams into two groups - will/won't win at home \n",
    "class_counts = dataset.groupby('home_win').size()\n",
    "print(class_counts)"
   ]
  },
  {
   "cell_type": "code",
   "execution_count": 8,
   "id": "84fb9ed7",
   "metadata": {},
   "outputs": [
    {
     "name": "stdout",
     "output_type": "stream",
     "text": [
      "['hm_PWk_lad', 'aw_PWk_lad', 'PWk_lad_gap', 'hm_PWk_perc', 'aw_PWk_perc', 'PWk_perc_gap', 'hm_PWk_pts', 'aw_PWk_pts', 'PWk_pts_gap', 'hm_PWk_pts_stan', 'aw_PWk_pts_stan', 'PWk_pts_gap_stan', 'aw_PY', 'aw_PY_perc', 'aw_2PY', 'aw_2PY_perc', 'aw_3PY', 'aw_3PY_perc', 'aw_4PY', 'aw_4PY_perc', 'aw_PY_2PY', 'aw_PY_3PY', 'aw_PY_4PY', 'aw_Pypc_2Pypc', 'aw_Pypc_3Pypc', 'aw_Pypc_4Pypc', 'PY_gap', 'PY_%_gap', '2PY_gap', '2PY_%_gap', '3PY_gap', '3PY_%_gap', '4PY_gap', '4PY_%_gap', 'aw_Dr_PY', 'aw_Dr_2PY', 'aw_Dr_3py', 'aw_Dr_4py', 'aw_Dr_Tot', 'Dr_PY_gap', 'Dr_2PY_gap', 'Dr_3PY_gap', 'Dr_4PY_gap', 'Dr_Tot_gap', 'aw_Pwk_win', 'aw_2Pwk_win', 'aw_3Pwk_win', 'aw_4Pwk_win', 'aw_win_1', 'aw_win_2', 'aw_win_3', 'aw_win_4', 'h_win_1_gap', 'h_win_2_gap', 'h_win_3_gap', 'h_win_4_gap', 'a_win_1_gap', 'a_win_2_gap', 'a_win_3_gap', 'a_win_4_gap', 'Interstate']\n"
     ]
    }
   ],
   "source": [
    "#Identify which columns have NaN (Not a Number - i.e. missing values)\n",
    "nan_values = dataset.isna()\n",
    "nan_columns = nan_values.any()\n",
    "\n",
    "columns_with_nan = dataset.columns[nan_columns].tolist()\n",
    "print(columns_with_nan)\n",
    "\n",
    "#Need to remove the NaN"
   ]
  },
  {
   "cell_type": "code",
   "execution_count": 9,
   "id": "e7fe6d66",
   "metadata": {},
   "outputs": [],
   "source": [
    "# Get names of indexes for which column hm_score has value 0\n",
    "indexNames = dataset[ dataset['hm_score'] == 0 ].index"
   ]
  },
  {
   "cell_type": "code",
   "execution_count": 10,
   "id": "01870046",
   "metadata": {},
   "outputs": [],
   "source": [
    "# Delete these row indexes from dataFrame\n",
    "dataset.drop(indexNames , inplace=True)"
   ]
  },
  {
   "cell_type": "code",
   "execution_count": 11,
   "id": "394b8693",
   "metadata": {},
   "outputs": [
    {
     "name": "stdout",
     "output_type": "stream",
     "text": [
      "(1762, 96)\n"
     ]
    }
   ],
   "source": [
    "#Look at dataset's dimensions: rows and columns\n",
    "print(dataset.shape)"
   ]
  },
  {
   "cell_type": "code",
   "execution_count": 12,
   "id": "75c545af",
   "metadata": {},
   "outputs": [
    {
     "name": "stdout",
     "output_type": "stream",
     "text": [
      "[]\n"
     ]
    }
   ],
   "source": [
    "#Check whether all NaNs have been removed\n",
    "#Identify which columns have NaN (Not a Number - i.e. missing values)\n",
    "nan_values = dataset.isna()\n",
    "nan_columns = nan_values.any()\n",
    "\n",
    "columns_with_nan = dataset.columns[nan_columns].tolist()\n",
    "print(columns_with_nan)\n"
   ]
  },
  {
   "cell_type": "code",
   "execution_count": 13,
   "id": "84f3c34e",
   "metadata": {},
   "outputs": [
    {
     "name": "stdout",
     "output_type": "stream",
     "text": [
      "home_win\n",
      "0    776\n",
      "1    986\n",
      "dtype: int64\n"
     ]
    }
   ],
   "source": [
    "#To understand class distribution - i.e. how many in the sample are a home win vs loss\n",
    "\n",
    "class_counts = dataset.groupby('home_win').size()\n",
    "print(class_counts)"
   ]
  },
  {
   "cell_type": "code",
   "execution_count": 14,
   "id": "f31cdad2",
   "metadata": {},
   "outputs": [],
   "source": [
    "#Remove columns that won't be used for training\n",
    "dataset.drop(['home_team', 'away_team', 'hm_score', 'aw_score', 'score_gap'], axis=1, inplace=True )"
   ]
  },
  {
   "cell_type": "code",
   "execution_count": 15,
   "id": "a1bf5920",
   "metadata": {},
   "outputs": [
    {
     "data": {
      "text/html": [
       "<div>\n",
       "<style scoped>\n",
       "    .dataframe tbody tr th:only-of-type {\n",
       "        vertical-align: middle;\n",
       "    }\n",
       "\n",
       "    .dataframe tbody tr th {\n",
       "        vertical-align: top;\n",
       "    }\n",
       "\n",
       "    .dataframe thead th {\n",
       "        text-align: right;\n",
       "    }\n",
       "</style>\n",
       "<table border=\"1\" class=\"dataframe\">\n",
       "  <thead>\n",
       "    <tr style=\"text-align: right;\">\n",
       "      <th></th>\n",
       "      <th>round</th>\n",
       "      <th>hm_PWk_lad</th>\n",
       "      <th>aw_PWk_lad</th>\n",
       "      <th>PWk_lad_gap</th>\n",
       "      <th>hm_PWk_perc</th>\n",
       "      <th>aw_PWk_perc</th>\n",
       "      <th>PWk_perc_gap</th>\n",
       "      <th>hm_PWk_pts</th>\n",
       "      <th>aw_PWk_pts</th>\n",
       "      <th>PWk_pts_gap</th>\n",
       "      <th>...</th>\n",
       "      <th>h_win_2_gap</th>\n",
       "      <th>h_win_3_gap</th>\n",
       "      <th>h_win_4_gap</th>\n",
       "      <th>a_win_1_gap</th>\n",
       "      <th>a_win_2_gap</th>\n",
       "      <th>a_win_3_gap</th>\n",
       "      <th>a_win_4_gap</th>\n",
       "      <th>Interstate</th>\n",
       "      <th>PWk_hm</th>\n",
       "      <th>home_win</th>\n",
       "    </tr>\n",
       "  </thead>\n",
       "  <tbody>\n",
       "    <tr>\n",
       "      <th>0</th>\n",
       "      <td>1</td>\n",
       "      <td>18.0</td>\n",
       "      <td>1.0</td>\n",
       "      <td>-17.0</td>\n",
       "      <td>59.3</td>\n",
       "      <td>136.1</td>\n",
       "      <td>-76.8</td>\n",
       "      <td>8.0</td>\n",
       "      <td>72.0</td>\n",
       "      <td>64.0</td>\n",
       "      <td>...</td>\n",
       "      <td>0.0</td>\n",
       "      <td>0.0</td>\n",
       "      <td>0.0</td>\n",
       "      <td>1.0</td>\n",
       "      <td>1.0</td>\n",
       "      <td>1.0</td>\n",
       "      <td>1.0</td>\n",
       "      <td>0.0</td>\n",
       "      <td>0</td>\n",
       "      <td>0</td>\n",
       "    </tr>\n",
       "    <tr>\n",
       "      <th>1</th>\n",
       "      <td>1</td>\n",
       "      <td>3.0</td>\n",
       "      <td>8.0</td>\n",
       "      <td>5.0</td>\n",
       "      <td>120.4</td>\n",
       "      <td>131.6</td>\n",
       "      <td>-11.2</td>\n",
       "      <td>60.0</td>\n",
       "      <td>52.0</td>\n",
       "      <td>-8.0</td>\n",
       "      <td>...</td>\n",
       "      <td>0.0</td>\n",
       "      <td>1.0</td>\n",
       "      <td>0.0</td>\n",
       "      <td>0.0</td>\n",
       "      <td>0.0</td>\n",
       "      <td>0.0</td>\n",
       "      <td>0.0</td>\n",
       "      <td>1.0</td>\n",
       "      <td>1</td>\n",
       "      <td>0</td>\n",
       "    </tr>\n",
       "  </tbody>\n",
       "</table>\n",
       "<p>2 rows × 91 columns</p>\n",
       "</div>"
      ],
      "text/plain": [
       "   round  hm_PWk_lad  aw_PWk_lad  PWk_lad_gap  hm_PWk_perc  aw_PWk_perc  \\\n",
       "0      1        18.0         1.0        -17.0         59.3        136.1   \n",
       "1      1         3.0         8.0          5.0        120.4        131.6   \n",
       "\n",
       "   PWk_perc_gap  hm_PWk_pts  aw_PWk_pts  PWk_pts_gap  ...  h_win_2_gap  \\\n",
       "0         -76.8         8.0        72.0         64.0  ...          0.0   \n",
       "1         -11.2        60.0        52.0         -8.0  ...          0.0   \n",
       "\n",
       "   h_win_3_gap  h_win_4_gap  a_win_1_gap  a_win_2_gap  a_win_3_gap  \\\n",
       "0          0.0          0.0          1.0          1.0          1.0   \n",
       "1          1.0          0.0          0.0          0.0          0.0   \n",
       "\n",
       "   a_win_4_gap  Interstate  PWk_hm  home_win  \n",
       "0          1.0         0.0       0         0  \n",
       "1          0.0         1.0       1         0  \n",
       "\n",
       "[2 rows x 91 columns]"
      ]
     },
     "execution_count": 15,
     "metadata": {},
     "output_type": "execute_result"
    }
   ],
   "source": [
    "dataset.head(2)"
   ]
  },
  {
   "cell_type": "code",
   "execution_count": 16,
   "id": "4942c470",
   "metadata": {},
   "outputs": [
    {
     "name": "stdout",
     "output_type": "stream",
     "text": [
      "round\n",
      "hm_PWk_lad\n",
      "aw_PWk_lad\n",
      "PWk_lad_gap\n",
      "hm_PWk_perc\n",
      "aw_PWk_perc\n",
      "PWk_perc_gap\n",
      "hm_PWk_pts\n",
      "aw_PWk_pts\n",
      "PWk_pts_gap\n",
      "hm_PWk_pts_stan\n",
      "aw_PWk_pts_stan\n",
      "PWk_pts_gap_stan\n",
      "hm_PY\n",
      "hm_PY_perc\n",
      "hm_2PY\n",
      "hm_2PY_perc\n",
      "hm_3PY\n",
      "hm_3PY_perc\n",
      "hm_4PY\n",
      "hm_4PY_perc\n",
      "hm_PY_2PY\n",
      "hm_PY_3PY\n",
      "hm_PY_4PY\n",
      "hm_Pypc_2Pypc\n",
      "hm_Pypc_3Pypc\n",
      "hm_Pypc_4Pypc\n",
      "aw_PY\n",
      "aw_PY_perc\n",
      "aw_2PY\n",
      "aw_2PY_perc\n",
      "aw_3PY\n",
      "aw_3PY_perc\n",
      "aw_4PY\n",
      "aw_4PY_perc\n",
      "aw_PY_2PY\n",
      "aw_PY_3PY\n",
      "aw_PY_4PY\n",
      "aw_Pypc_2Pypc\n",
      "aw_Pypc_3Pypc\n",
      "aw_Pypc_4Pypc\n",
      "PY_gap\n",
      "PY_%_gap\n",
      "2PY_gap\n",
      "2PY_%_gap\n",
      "3PY_gap\n",
      "3PY_%_gap\n",
      "4PY_gap\n",
      "4PY_%_gap\n",
      "hm_Dr_PY\n",
      "hm_Dr_2PY\n",
      "hm_Dr_3py\n",
      "hm_Dr_4py\n",
      "hm_Dr_Tot\n",
      "aw_Dr_PY\n",
      "aw_Dr_2PY\n",
      "aw_Dr_3py\n",
      "aw_Dr_4py\n",
      "aw_Dr_Tot\n",
      "Dr_PY_gap\n",
      "Dr_2PY_gap\n",
      "Dr_3PY_gap\n",
      "Dr_4PY_gap\n",
      "Dr_Tot_gap\n",
      "hm_Pwk_win\n",
      "hm_2Pwk_win\n",
      "hm_3Pwk_win\n",
      "hm_4Pwk_win\n",
      "aw_Pwk_win\n",
      "aw_2Pwk_win\n",
      "aw_3Pwk_win\n",
      "aw_4Pwk_win\n",
      "hm_win_1\n",
      "hm_win_2\n",
      "hm_win_3\n",
      "hm_win_4\n",
      "aw_win_1\n",
      "aw_win_2\n",
      "aw_win_3\n",
      "aw_win_4\n",
      "h_win_1_gap\n",
      "h_win_2_gap\n",
      "h_win_3_gap\n",
      "h_win_4_gap\n",
      "a_win_1_gap\n",
      "a_win_2_gap\n",
      "a_win_3_gap\n",
      "a_win_4_gap\n",
      "Interstate\n",
      "PWk_hm\n",
      "home_win\n"
     ]
    }
   ],
   "source": [
    "#Print list of column names in training set\n",
    "\n",
    "for col in dataset.columns:\n",
    "    print(col)"
   ]
  },
  {
   "cell_type": "code",
   "execution_count": 17,
   "id": "babbce1d",
   "metadata": {},
   "outputs": [
    {
     "data": {
      "text/plain": [
       "90"
      ]
     },
     "execution_count": 17,
     "metadata": {},
     "output_type": "execute_result"
    }
   ],
   "source": [
    "#Find column index number for outcome value home_win\n",
    "dataset.columns.get_loc(\"home_win\")"
   ]
  },
  {
   "cell_type": "code",
   "execution_count": 18,
   "id": "433b07b1",
   "metadata": {},
   "outputs": [],
   "source": [
    "#Before splitting into an array for model fitting, save the feature names for later use\n",
    "feature_names = list(dataset.columns)\n"
   ]
  },
  {
   "cell_type": "code",
   "execution_count": 19,
   "id": "7166e167",
   "metadata": {},
   "outputs": [],
   "source": [
    "#remove the label name 'home_win'\n",
    "del feature_names[90]"
   ]
  },
  {
   "cell_type": "code",
   "execution_count": null,
   "id": "cb58634a",
   "metadata": {},
   "outputs": [],
   "source": [
    "print(feature_names)"
   ]
  },
  {
   "cell_type": "code",
   "execution_count": 20,
   "id": "348a2c09",
   "metadata": {},
   "outputs": [],
   "source": [
    "#Create models using all features, to determine feature importance\n",
    "#Separate the dataset into dependent (x) and independent (y, has diabetes) components, starting with converting to array\n",
    "array = dataset.values\n",
    "\n",
    "X = array[:, :90]\n",
    "Y = array[:, 90]\n"
   ]
  },
  {
   "cell_type": "code",
   "execution_count": 21,
   "id": "30d53161",
   "metadata": {},
   "outputs": [],
   "source": [
    "Y = [1 if x == 1 else 0 for x in Y]"
   ]
  },
  {
   "cell_type": "code",
   "execution_count": null,
   "id": "c84993bd",
   "metadata": {},
   "outputs": [],
   "source": [
    "# Feature Extraction with RFE\n",
    "\n",
    "# feature extraction\n",
    "model = LogisticRegression(solver = 'lbfgs', C=0.01, penalty='l2', max_iter=3000)\n",
    "#model = RandomForestClassifier(n_estimators=1000, max_features='log2', max_depth= 5)\n",
    "rfe = RFE(model, 20)\n",
    "fit = rfe.fit(X, Y)\n",
    "print(\"Num Features: %d\" % fit.n_features_)\n",
    "print(\"Selected Features: %s\" % fit.support_)\n",
    "print(\"Feature Ranking: %s\" % fit.ranking_)"
   ]
  },
  {
   "cell_type": "code",
   "execution_count": null,
   "id": "7e08a296",
   "metadata": {},
   "outputs": [],
   "source": [
    "#Check feature ranking\n",
    "feature_ranking = list(fit.ranking_)"
   ]
  },
  {
   "cell_type": "code",
   "execution_count": null,
   "id": "9a3ac553",
   "metadata": {},
   "outputs": [],
   "source": [
    "#Add feature names to feature rankings\n",
    "\n",
    "named_rankings = list(zip(feature_names, feature_ranking))\n",
    "\n",
    "named_rankings = pd.DataFrame(named_rankings)#.to_csv('rankingslogr.csv')"
   ]
  },
  {
   "cell_type": "code",
   "execution_count": null,
   "id": "8e0b6711",
   "metadata": {},
   "outputs": [],
   "source": [
    "named_rankings.head(5)"
   ]
  },
  {
   "cell_type": "code",
   "execution_count": null,
   "id": "b296da26",
   "metadata": {},
   "outputs": [],
   "source": [
    "named_rankings.columns = ['feature', 'rank',]\n"
   ]
  },
  {
   "cell_type": "code",
   "execution_count": null,
   "id": "1356f6b8",
   "metadata": {},
   "outputs": [],
   "source": [
    "named_rankings.head(5)"
   ]
  },
  {
   "cell_type": "code",
   "execution_count": null,
   "id": "1f0b87b6",
   "metadata": {},
   "outputs": [],
   "source": [
    "lr_featselect = named_rankings[named_rankings['rank'] < 2]"
   ]
  },
  {
   "cell_type": "code",
   "execution_count": null,
   "id": "4e0e4cb5",
   "metadata": {},
   "outputs": [],
   "source": [
    "print(lr_featselect.shape)"
   ]
  },
  {
   "cell_type": "code",
   "execution_count": null,
   "id": "a70b4bf1",
   "metadata": {},
   "outputs": [],
   "source": [
    "lr_featselect = lr_featselect['feature']\n"
   ]
  },
  {
   "cell_type": "code",
   "execution_count": null,
   "id": "cd985696",
   "metadata": {},
   "outputs": [],
   "source": [
    "print(lr_featselect)"
   ]
  },
  {
   "cell_type": "code",
   "execution_count": null,
   "id": "5042a5e4",
   "metadata": {},
   "outputs": [],
   "source": [
    "array = rf_featselect.values\n",
    "\n",
    "feats = array[:, :1]\n",
    "rank = array[:, 1]"
   ]
  },
  {
   "cell_type": "code",
   "execution_count": null,
   "id": "37a32bcd",
   "metadata": {},
   "outputs": [],
   "source": [
    "print(feats)"
   ]
  },
  {
   "cell_type": "code",
   "execution_count": 22,
   "id": "e8731280",
   "metadata": {},
   "outputs": [
    {
     "name": "stdout",
     "output_type": "stream",
     "text": [
      "Optimal number of features : 11\n"
     ]
    },
    {
     "data": {
      "image/png": "[encoded data removed]",
      "text/plain": [
       "<Figure size 640x480 with 1 Axes>"
      ]
     },
     "metadata": {},
     "output_type": "display_data"
    }
   ],
   "source": [
    "#Feature Selection with RFECV\n",
    "\n",
    "estimator = RandomForestClassifier(n_estimators=1500, max_features='log2', max_depth= 5)\n",
    "min_features_to_select = 1\n",
    "selector = RFECV(estimator, step=1, cv=10, scoring = 'neg_log_loss', min_features_to_select=min_features_to_select)\n",
    "selection = selector.fit(X, Y)\n",
    "\n",
    "\n",
    "print(\"Optimal number of features : %d\" % selection.n_features_)\n",
    "\n",
    "# Plot number of features VS. cross-validation scores\n",
    "plt.figure()\n",
    "plt.xlabel(\"Number of features selected\")\n",
    "plt.ylabel(\"Cross validation score (Neg Log Loss)\")\n",
    "plt.plot(\n",
    "    range(min_features_to_select, len(selection.grid_scores_) + min_features_to_select),\n",
    "    selection.grid_scores_,\n",
    ")\n",
    "plt.show()"
   ]
  },
  {
   "cell_type": "code",
   "execution_count": 23,
   "id": "e7d4e4d3",
   "metadata": {},
   "outputs": [
    {
     "data": {
      "text/plain": [
       "array([21,  7,  8,  1,  1,  1,  1, 29, 40,  1,  3, 10,  1,  9,  1, 54, 33,\n",
       "       50, 23, 38, 26, 35, 48, 47, 13, 12, 15, 14,  1, 28,  4, 58, 34, 57,\n",
       "       30, 53, 43, 51, 19, 18, 32,  1,  1, 22,  2, 16,  1, 17,  5, 31, 41,\n",
       "       45, 49, 37,  6, 46, 42, 52, 11, 27, 39, 20, 25, 24, 73, 60, 56, 36,\n",
       "       65, 59, 55, 44, 72, 68, 75, 79, 71, 74, 67, 69, 62, 64, 78, 80, 70,\n",
       "       66, 76, 61, 63, 77])"
      ]
     },
     "execution_count": 23,
     "metadata": {},
     "output_type": "execute_result"
    }
   ],
   "source": [
    "selection.ranking_"
   ]
  },
  {
   "cell_type": "code",
   "execution_count": 24,
   "id": "496921a2",
   "metadata": {},
   "outputs": [],
   "source": [
    "feature_ranking = list(selection.ranking_)"
   ]
  },
  {
   "cell_type": "code",
   "execution_count": 25,
   "id": "67e87e8e",
   "metadata": {},
   "outputs": [],
   "source": [
    "#Add feature names to feature rankings for RFECV with RF\n",
    "\n",
    "named_rankings = list(zip(feature_names, feature_ranking))\n",
    "\n",
    "named_rankings = pd.DataFrame(named_rankings).to_csv('rankingsrfecvnegll.csv')"
   ]
  },
  {
   "cell_type": "code",
   "execution_count": null,
   "id": "abe3847d",
   "metadata": {},
   "outputs": [],
   "source": [
    "named_rankings.columns = ['feature', 'rank',]\n",
    "lr_featselect = named_rankings[named_rankings['rank'] < 2]\n",
    "lr_featselect = list(lr_featselect['feature'])\n",
    "lr_featselect"
   ]
  },
  {
   "cell_type": "code",
   "execution_count": null,
   "id": "26dd9f0b",
   "metadata": {},
   "outputs": [],
   "source": [
    "#Split into training and test data\n",
    "# We train the model on the training data and then test how good it is using the unseen test data\n",
    "from sklearn.model_selection import train_test_split\n",
    "X_train, X_test, Y_train, Y_test = train_test_split(X, Y, test_size = 0.25, random_state=42)"
   ]
  },
  {
   "cell_type": "code",
   "execution_count": null,
   "id": "d0b3935d",
   "metadata": {},
   "outputs": [],
   "source": [
    "print(X.shape)"
   ]
  },
  {
   "cell_type": "code",
   "execution_count": null,
   "id": "dd3471bf",
   "metadata": {},
   "outputs": [],
   "source": [
    "print(Y)"
   ]
  },
  {
   "cell_type": "code",
   "execution_count": null,
   "id": "dfb505f0",
   "metadata": {},
   "outputs": [],
   "source": [
    "#Fit model #1 Logistic Regression\n",
    "from sklearn.linear_model import LogisticRegression\n",
    "lr = LogisticRegression(solver = 'lbfgs', C=0.01, penalty='l2', max_iter=1000)\n",
    "lr.fit(X_train, Y_train)"
   ]
  },
  {
   "cell_type": "code",
   "execution_count": null,
   "id": "ae0b222a",
   "metadata": {},
   "outputs": [],
   "source": [
    "#Check decision tree model training accuracy using training dataset\n",
    "from sklearn.metrics import accuracy_score\n",
    "print(accuracy_score(Y_train, lr.predict(X_train)))"
   ]
  },
  {
   "cell_type": "code",
   "execution_count": null,
   "id": "768e323d",
   "metadata": {
    "scrolled": true
   },
   "outputs": [],
   "source": [
    "#Check decision Tree model test accuracy using test dataset\n",
    "resultlr = lr.score(X_test, Y_test)\n",
    "print(\"Test Set Accuracy of Logistic Regression model: %.3f%%\" % (resultlr*100.0))"
   ]
  },
  {
   "cell_type": "code",
   "execution_count": null,
   "id": "d68f99eb",
   "metadata": {},
   "outputs": [],
   "source": [
    "#Score the Test dataset with the model\n",
    "lrtest_proba = lr.predict_proba(X_test)\n",
    "print(lrtest_proba)"
   ]
  },
  {
   "cell_type": "code",
   "execution_count": null,
   "id": "b53b8aa5",
   "metadata": {},
   "outputs": [],
   "source": [
    "print(Y_test)"
   ]
  },
  {
   "cell_type": "code",
   "execution_count": null,
   "id": "93c7c5b8",
   "metadata": {},
   "outputs": [],
   "source": [
    "#Plot confusion matrix to see what proportion of wins are predicted correctly\n",
    "from sklearn.metrics import plot_confusion_matrix\n",
    "matrixlr = plot_confusion_matrix(lr, X_test, Y_test, cmap=plt.cm.Blues)\n",
    "plt.show(matrixlr)"
   ]
  },
  {
   "cell_type": "code",
   "execution_count": null,
   "id": "737d4ed8",
   "metadata": {},
   "outputs": [],
   "source": [
    "# get importance\n",
    "importance = lr.feature_importances_\n",
    "# summarize feature importance\n",
    "for i,v in enumerate(importance):\n",
    "\tprint('Feature: %0d, Score: %.5f' % (i,v))\n",
    "# plot feature importance\n",
    "plt.bar([x for x in range(len(importance))], importance)\n",
    "plt.show()"
   ]
  },
  {
   "cell_type": "code",
   "execution_count": null,
   "id": "848d35e8",
   "metadata": {},
   "outputs": [],
   "source": [
    "#Fit model #2 Linear Discriminant Analysis\n",
    "from sklearn.discriminant_analysis import LinearDiscriminantAnalysis\n",
    "ld = LinearDiscriminantAnalysis(shrinkage= 0.1, solver='lsqr')\n",
    "ld.fit(X_train, Y_train)"
   ]
  },
  {
   "cell_type": "code",
   "execution_count": null,
   "id": "f8722ce9",
   "metadata": {},
   "outputs": [],
   "source": [
    "#Check LDA model training accuracy using training dataset\n",
    "\n",
    "print(accuracy_score(Y_train, ld.predict(X_train)))"
   ]
  },
  {
   "cell_type": "code",
   "execution_count": null,
   "id": "ef0c41e5",
   "metadata": {},
   "outputs": [],
   "source": [
    "#Test LDA model accuracy using test dataset\n",
    "resultld = ld.score(X_test, Y_test)\n",
    "print(\"Test Set Accuracy of LDA model: %.3f%%\" % (resultld*100.0))"
   ]
  },
  {
   "cell_type": "code",
   "execution_count": null,
   "id": "e2840ea7",
   "metadata": {
    "scrolled": true
   },
   "outputs": [],
   "source": [
    "#Plot LDA confusion matrix to see what proportion of games are predicted correctly\n",
    "matrixld = plot_confusion_matrix(ld, X_test, Y_test, cmap=plt.cm.Blues)\n",
    "plt.show(matrixld)"
   ]
  },
  {
   "cell_type": "code",
   "execution_count": null,
   "id": "5aaf866e",
   "metadata": {},
   "outputs": [],
   "source": [
    "#####################\n",
    "##RANDOM FOREST######\n",
    "#####################"
   ]
  },
  {
   "cell_type": "code",
   "execution_count": null,
   "id": "bd6f4b01",
   "metadata": {},
   "outputs": [],
   "source": [
    "#Fit model #3 Random Forest\n",
    "# Random Forest creates a lot of trees and then slects the most frequent class as the winning prediction.\n",
    "from sklearn.ensemble import RandomForestClassifier\n",
    "rf = RandomForestClassifier(n_estimators=1000, max_features='log2', max_depth= 5)\n",
    "rf.fit(X_train, Y_train)"
   ]
  },
  {
   "cell_type": "code",
   "execution_count": null,
   "id": "a7794be4",
   "metadata": {},
   "outputs": [],
   "source": [
    "#Number of features seen during fit\n",
    "print(rf.n_features_in_)"
   ]
  },
  {
   "cell_type": "code",
   "execution_count": null,
   "id": "381a29dd",
   "metadata": {},
   "outputs": [],
   "source": [
    "#Check feature importance\n",
    "feature_importance = list(rf.feature_importances_)"
   ]
  },
  {
   "cell_type": "code",
   "execution_count": null,
   "id": "f9f91b86",
   "metadata": {},
   "outputs": [],
   "source": [
    "print(feature_importance)"
   ]
  },
  {
   "cell_type": "code",
   "execution_count": null,
   "id": "e20ee36a",
   "metadata": {},
   "outputs": [],
   "source": [
    "#Join feature names to feature importance scores\n",
    "named_importance = list(zip(feature_names, feature_importance))\n",
    "\n",
    "named_importance = pd.DataFrame(named_importance).to_csv('importancerf.csv')\n"
   ]
  },
  {
   "cell_type": "code",
   "execution_count": null,
   "id": "23d95b6c",
   "metadata": {},
   "outputs": [],
   "source": [
    "#Assess Random Forest training accuracy\n",
    "\n",
    "print(accuracy_score(Y_train, rf.predict(X_train)))"
   ]
  },
  {
   "cell_type": "code",
   "execution_count": null,
   "id": "ed50b8cf",
   "metadata": {},
   "outputs": [],
   "source": [
    "#Test Random Forest model accuracy using test dataset\n",
    "resultrf = rf.score(X_test, Y_test)\n",
    "print(\"Test Set Accuracy of Random Forest model: %.3f%%\" % (resultrf*100.0))"
   ]
  },
  {
   "cell_type": "code",
   "execution_count": null,
   "id": "bb925925",
   "metadata": {},
   "outputs": [],
   "source": [
    "#Plot Random Forest confusion matrix \n",
    "matrixrf = plot_confusion_matrix(rf, X_test, Y_test, cmap=plt.cm.Blues)\n",
    "plt.show(matrixrf)"
   ]
  },
  {
   "cell_type": "code",
   "execution_count": null,
   "id": "ca98b09d",
   "metadata": {},
   "outputs": [],
   "source": [
    "##Error Analysis"
   ]
  },
  {
   "cell_type": "code",
   "execution_count": null,
   "id": "bb5f75cf",
   "metadata": {},
   "outputs": [],
   "source": [
    "from raiwidgets import ResponsibleAIDashboard\n",
    "from responsibleai import RAIInsights"
   ]
  },
  {
   "cell_type": "code",
   "execution_count": null,
   "id": "d9f942a2",
   "metadata": {},
   "outputs": [],
   "source": [
    "target_feature='home_win'"
   ]
  },
  {
   "cell_type": "code",
   "execution_count": null,
   "id": "daa7868d",
   "metadata": {},
   "outputs": [],
   "source": [
    "rai_insights = RAIInsights(rf, X_train, X_test, target_feature, 'classification', categorical_features=[])"
   ]
  },
  {
   "cell_type": "code",
   "execution_count": null,
   "id": "6079602f",
   "metadata": {},
   "outputs": [],
   "source": [
    "# Add in Error Analysis\n",
    "rai_insights.error_analysis.add()"
   ]
  },
  {
   "cell_type": "code",
   "execution_count": null,
   "id": "14c47de6",
   "metadata": {},
   "outputs": [],
   "source": [
    "rai_insights.compute()"
   ]
  },
  {
   "cell_type": "code",
   "execution_count": null,
   "id": "ba5f5396",
   "metadata": {},
   "outputs": [],
   "source": [
    "#To view the error analysis dashboard\n",
    "ResponsibleAIDashboard(rai_insights)"
   ]
  },
  {
   "cell_type": "code",
   "execution_count": null,
   "id": "4bc28d37",
   "metadata": {},
   "outputs": [],
   "source": [
    "#SHAP Values\n",
    "# Fits the explainer onto the x-test data that it is predicting for \n",
    "explainer = shap.Explainer(rf.predict, X_test)\n",
    "# Calculates the SHAP values - It takes some time\n",
    "shap_values = explainer(X_test)"
   ]
  },
  {
   "cell_type": "code",
   "execution_count": null,
   "id": "a00c7f65",
   "metadata": {},
   "outputs": [],
   "source": [
    "# Evaluate SHAP values at a model level\n",
    "shap_values = explainer(X)"
   ]
  },
  {
   "cell_type": "code",
   "execution_count": null,
   "id": "0c677dbd",
   "metadata": {},
   "outputs": [],
   "source": [
    "#Violin plot of SHAP at a model level\n",
    "#Red is high, blue is low\n",
    "shap.summary_plot(shap_values, plot_type='violin')"
   ]
  },
  {
   "cell_type": "code",
   "execution_count": null,
   "id": "88950fd8",
   "metadata": {},
   "outputs": [],
   "source": [
    "shap.plots.bar(shap_values)"
   ]
  },
  {
   "cell_type": "code",
   "execution_count": null,
   "id": "b7afa1df",
   "metadata": {},
   "outputs": [],
   "source": [
    "#Shap values at an individual prediction level\n",
    "#for observation [0]\n",
    "shap.plots.bar(shap_values[300])"
   ]
  },
  {
   "cell_type": "code",
   "execution_count": null,
   "id": "c7799c70",
   "metadata": {},
   "outputs": [],
   "source": [
    "#SHAP values at an individual prediction level\n",
    "#Waterfall, showing contributors of gap between prediction and expected (expected = mean of all predictions)\n",
    "#For observation [0]\n",
    "shap.plots.waterfall(shap_values[19])"
   ]
  },
  {
   "cell_type": "code",
   "execution_count": null,
   "id": "9306f352",
   "metadata": {},
   "outputs": [],
   "source": [
    "#Import data for scoring\n",
    "scoring = pd.read_csv('C:\\\\Users\\\\D648007\\\\AFL2022ScoringData.csv')\n"
   ]
  },
  {
   "cell_type": "code",
   "execution_count": null,
   "id": "fa5c9c75",
   "metadata": {},
   "outputs": [],
   "source": [
    "#Create scoring dataset of features identified through feature importance testing\n",
    "scoring = scoring[[\"round\", \"hm_PWk_lad\", \"aw_PWk_lad\", \"PWk_lad_gap\", \"hm_PWk_perc\", \"aw_PWk_perc\" , \"PWk_perc_gap\", \"hm_PWk_pts\", \n",
    "                  \"aw_PWk_pts\", \"PWk_pts_gap\", \"hm_PWk_pts_stan\", \"aw_PWk_pts_stan\", \"PWk_pts_gap_stan\", \"hm_PY\" , \"hm_PY_perc\",\n",
    "                  \"aw_PY\", \"aw_PY_perc\", \"PY_gap\", \"PY_%_gap\", \"2PY_%_gap\", \"3PY_%_gap\"]]"
   ]
  },
  {
   "cell_type": "code",
   "execution_count": null,
   "id": "de5e2027",
   "metadata": {},
   "outputs": [],
   "source": [
    "#Separate the required columns into an array file for scoring by the model\n",
    "array = scoring.values\n",
    "\n",
    "score = array[:, :]"
   ]
  },
  {
   "cell_type": "code",
   "execution_count": null,
   "id": "82ce2901",
   "metadata": {},
   "outputs": [],
   "source": [
    "print(score.shape)"
   ]
  },
  {
   "cell_type": "code",
   "execution_count": null,
   "id": "75fd463b",
   "metadata": {},
   "outputs": [],
   "source": [
    "#Before splitting into an array for model fitting, save the feature names for later use\n",
    "rnd = score[:, 0]"
   ]
  },
  {
   "cell_type": "code",
   "execution_count": null,
   "id": "08406c5f",
   "metadata": {},
   "outputs": [],
   "source": [
    "#SHAP Values\n",
    "# Fits the explainer onto the x-test data that it is predicting for \n",
    "explainer = shap.Explainer(rf.predict_proba, score)\n",
    "# Calculates the SHAP values - It takes some time\n",
    "shap_values = explainer(score)"
   ]
  },
  {
   "cell_type": "code",
   "execution_count": null,
   "id": "b3e15c6c",
   "metadata": {},
   "outputs": [],
   "source": [
    "#Shap values at an individual prediction level\n",
    "#for observation [0]\n",
    "shap.plots.bar(shap_values[7])"
   ]
  },
  {
   "cell_type": "code",
   "execution_count": null,
   "id": "1499cffb",
   "metadata": {},
   "outputs": [],
   "source": [
    "#SHAP values at an individual prediction level\n",
    "#Waterfall, showing contributors of gap between prediction and expected (expected = mean of all predictions)\n",
    "#For observation [0]\n",
    "shap.plots.waterfall(shap_values[7])"
   ]
  },
  {
   "cell_type": "code",
   "execution_count": null,
   "id": "c88c8446",
   "metadata": {},
   "outputs": [],
   "source": [
    "rfproba = rf.predict_proba(score)\n",
    "print(rfproba)"
   ]
  },
  {
   "cell_type": "code",
   "execution_count": null,
   "id": "0111cf36",
   "metadata": {},
   "outputs": [],
   "source": []
  },
  {
   "cell_type": "code",
   "execution_count": null,
   "id": "827cfd1d",
   "metadata": {},
   "outputs": [],
   "source": [
    "#Score the 3 Test datasets with the model\n",
    "lrtest_proba = lr.predict_proba(X_test)\n",
    "ldtest_proba = ld.predict_proba(X_test)\n",
    "rftest_proba = rf.predict_proba(X_test)\n"
   ]
  },
  {
   "cell_type": "code",
   "execution_count": null,
   "id": "04057e41",
   "metadata": {},
   "outputs": [],
   "source": [
    "print(lrtest_proba)"
   ]
  },
  {
   "cell_type": "code",
   "execution_count": null,
   "id": "3d7ffa1d",
   "metadata": {},
   "outputs": [],
   "source": [
    "\n",
    "testx2_proba = np.append(lrtest_proba, ldtest_proba, axis=1)\n",
    "testx3_proba = np.append(testx2_proba, rftest_proba, axis=1)\n",
    "print(testx3_proba)"
   ]
  },
  {
   "cell_type": "code",
   "execution_count": null,
   "id": "ca855b95",
   "metadata": {},
   "outputs": [],
   "source": [
    "print(testx3_proba)"
   ]
  },
  {
   "cell_type": "code",
   "execution_count": null,
   "id": "55de625e",
   "metadata": {},
   "outputs": [],
   "source": [
    "testx3 = pd. DataFrame(testx3_proba, columns=['LR0', 'LR1', 'LD0', 'LD1', 'RF0', 'RF1'])"
   ]
  },
  {
   "cell_type": "code",
   "execution_count": null,
   "id": "ee5b46f8",
   "metadata": {},
   "outputs": [],
   "source": [
    "testx3[\"Y Test\"] = Y_test\n",
    "testx3.head(5)"
   ]
  },
  {
   "cell_type": "code",
   "execution_count": null,
   "id": "226ddad8",
   "metadata": {},
   "outputs": [],
   "source": [
    "##To export as a csv, \n",
    "\n",
    "testx3.to_csv('testx3a.csv')"
   ]
  },
  {
   "cell_type": "code",
   "execution_count": null,
   "id": "c1b08f0f",
   "metadata": {},
   "outputs": [],
   "source": []
  },
  {
   "cell_type": "code",
   "execution_count": null,
   "id": "db0f6e98",
   "metadata": {},
   "outputs": [],
   "source": [
    "#Set parameters for Random Forest grid search\n",
    "param_grid = {\n",
    "    \"max_depth\": [2, 3, 4, 5, 7],\n",
    "    \"n_estimators\": [1, 10, 100, 1000]\n",
    "    \"max_features\": ['sqrt', 'log2'],\n",
    "    }\n"
   ]
  },
  {
   "cell_type": "code",
   "execution_count": null,
   "id": "144e18af",
   "metadata": {},
   "outputs": [],
   "source": [
    "from sklearn.model_selection import RepeatedStratifiedKFold\n",
    "\n",
    "# define models and parameters\n",
    "model = RandomForestClassifier()\n",
    "n_estimators = [1, 10, 100, 1000]\n",
    "max_features = ['sqrt', 'log2']\n",
    "max_depth = [2, 3, 4, 5, 7]\n",
    "# define grid search\n",
    "grid = dict(n_estimators=n_estimators, max_features=max_features, max_depth=max_depth)\n",
    "cv = RepeatedStratifiedKFold(n_splits=10, n_repeats=5, random_state=1)\n",
    "grid_search = GridSearchCV(estimator=model, param_grid=grid, n_jobs=-1, cv=cv, scoring='neg_log_loss',error_score=0)\n",
    "grid_result = grid_search.fit(X_train, Y_train)\n",
    "# summarize results\n",
    "print(\"Best: %f using %s\" % (grid_result.best_score_, grid_result.best_params_))\n",
    "means = grid_result.cv_results_['mean_test_score']\n",
    "stds = grid_result.cv_results_['std_test_score']\n",
    "params = grid_result.cv_results_['params']\n",
    "for mean, stdev, param in zip(means, stds, params):\n",
    "    print(\"%f (%f) with: %r\" % (mean, stdev, param))"
   ]
  },
  {
   "cell_type": "code",
   "execution_count": null,
   "id": "bc19058f",
   "metadata": {},
   "outputs": [],
   "source": [
    "#################\n",
    "##XG BOOST##\n",
    "#################"
   ]
  },
  {
   "cell_type": "code",
   "execution_count": null,
   "id": "5f646dd1",
   "metadata": {},
   "outputs": [],
   "source": [
    "#Fit model #4 XGBoost\n",
    "import xgboost\n",
    "print(xgboost.__version__)\n",
    "from xgboost import XGBClassifier\n",
    "\n",
    "xgb = XGBClassifier()\n",
    "xgb.fit(X_train, Y_train)"
   ]
  },
  {
   "cell_type": "code",
   "execution_count": null,
   "id": "68e9303f",
   "metadata": {},
   "outputs": [],
   "source": [
    "#Check XGB model training accuracy using training dataset\n",
    "from sklearn.metrics import accuracy_score\n",
    "print(accuracy_score(Y_train, xgb.predict(X_train)))"
   ]
  },
  {
   "cell_type": "code",
   "execution_count": null,
   "id": "566bbcb5",
   "metadata": {
    "scrolled": true
   },
   "outputs": [],
   "source": [
    "#Test XGB model accuracy using test dataset\n",
    "resultxgb = xgb.score(X_test, Y_test)\n",
    "print(\"Test Set Accuracy of XGB model: %.3f%%\" % (resultxgb*100.0))"
   ]
  },
  {
   "cell_type": "code",
   "execution_count": null,
   "id": "69957f1b",
   "metadata": {},
   "outputs": [],
   "source": [
    "#Set param grid for gridsearch\n",
    "\n",
    "param_grid = {\n",
    "    \"max_depth\": [3, 4, 5, 7],\n",
    "    \"learning_rate\": [0.1, 0.01, 0.05],\n",
    "    \"gamma\": [0, 0.25, 1],\n",
    "    \"reg_lambda\": [0, 1, 10],\n",
    "    \"scale_pos_weight\": [1, 3, 5],\n",
    "    \"subsample\": [0.8],\n",
    "    \"colsample_bytree\": [0.5],\n",
    "}"
   ]
  },
  {
   "cell_type": "code",
   "execution_count": null,
   "id": "edd254df",
   "metadata": {},
   "outputs": [],
   "source": [
    "from sklearn.model_selection import GridSearchCV\n",
    "\n",
    "xgb_cl = XGBClassifier(objective=\"binary:logistic\")\n",
    "\n",
    "xgb_grid = GridSearchCV(xgb_cl, param_grid, n_jobs=-1, cv=3, scoring=\"accuracy\")\n",
    "xgb_grid.fit(X_train, Y_train)"
   ]
  },
  {
   "cell_type": "code",
   "execution_count": null,
   "id": "aa56e465",
   "metadata": {},
   "outputs": [],
   "source": [
    "xgb_grid.best_score_"
   ]
  },
  {
   "cell_type": "code",
   "execution_count": null,
   "id": "36024226",
   "metadata": {},
   "outputs": [],
   "source": [
    "#Test XGB grid search model accuracy using test dataset\n",
    "resultxgb_grid = xgb_grid.score(X_test, Y_test)\n",
    "print(\"Test Set Accuracy of XGB_grid model: %.3f%%\" % (resultxgb_grid*100.0))"
   ]
  },
  {
   "cell_type": "code",
   "execution_count": null,
   "id": "b42cfe67",
   "metadata": {},
   "outputs": [],
   "source": []
  },
  {
   "cell_type": "code",
   "execution_count": null,
   "id": "995d3039",
   "metadata": {},
   "outputs": [],
   "source": []
  },
  {
   "cell_type": "code",
   "execution_count": null,
   "id": "8b6413b3",
   "metadata": {},
   "outputs": [],
   "source": [
    "##To export as a csv, where prediction is the array file with scores\n",
    "import numpy as np\n",
    "import pandas as pd\n",
    "prediction = pd.DataFrame(dtsvmrf_proba).to_csv('prediction5.csv')"
   ]
  },
  {
   "cell_type": "code",
   "execution_count": null,
   "id": "4bc8152f",
   "metadata": {},
   "outputs": [],
   "source": [
    "# Train Random Forest model using Repeated Cross Validation\n",
    "from sklearn.model_selection import RepeatedKFold\n",
    "from sklearn.model_selection import cross_val_score\n",
    "from numpy import mean\n",
    "from numpy import std\n",
    "\n",
    "rcv = RepeatedKFold(n_splits=10, n_repeats=3, random_state = 5)\n",
    "model = RandomForestClassifier()\n",
    "results = cross_val_score(model, X_train, Y_train, cv=rcv, n_jobs=-1)\n",
    "print('Accuracy: %.3f (%.3f)' % (mean(results), std(results)))"
   ]
  }
 ],
 "metadata": {
  "kernelspec": {
   "display_name": "Python 3",
   "language": "python",
   "name": "python3"
  },
  "language_info": {
   "codemirror_mode": {
    "name": "ipython",
    "version": 3
   },
   "file_extension": ".py",
   "mimetype": "text/x-python",
   "name": "python",
   "nbconvert_exporter": "python",
   "pygments_lexer": "ipython3",
   "version": "3.8.8"
  }
 },
 "nbformat": 4,
 "nbformat_minor": 5
}
